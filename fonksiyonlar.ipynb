{
 "cells": [
  {
   "cell_type": "code",
   "execution_count": 2,
   "metadata": {},
   "outputs": [
    {
     "name": "stdout",
     "output_type": "stream",
     "text": [
      "hello fonk\n"
     ]
    }
   ],
   "source": [
    "def fonk():\n",
    "    print(\"hello fonk\")\n",
    "  \n",
    "  \n",
    "fonk()    "
   ]
  },
  {
   "cell_type": "code",
   "execution_count": 4,
   "metadata": {},
   "outputs": [
    {
     "name": "stdout",
     "output_type": "stream",
     "text": [
      "hello ali\n",
      "hello ayse\n"
     ]
    }
   ],
   "source": [
    "'''arguman,parametre'''\n",
    "\n",
    "def fonk(usarname):\n",
    "    print(f\"hello {usarname}\")\n",
    "  \n",
    "  \n",
    "fonk(\"ali\") \n",
    "\n",
    "fonk(\"ayse\") "
   ]
  },
  {
   "cell_type": "code",
   "execution_count": 6,
   "metadata": {},
   "outputs": [
    {
     "name": "stdout",
     "output_type": "stream",
     "text": [
      "hello cemil\n",
      "hello kerim\n"
     ]
    }
   ],
   "source": [
    "# dafaul parametre\n",
    "def fonk(usarname=\"cemil\"):\n",
    "    print(f\"hello {usarname}\")\n",
    "  \n",
    "  \n",
    "fonk() # fonksiyon bos gönderdim hata vermedi tanimli degeri aldi\n",
    "\n",
    "fonk(\"kerim\") #argüman koydum default eger gecersiz oldu\n"
   ]
  },
  {
   "cell_type": "code",
   "execution_count": 8,
   "metadata": {},
   "outputs": [
    {
     "name": "stdout",
     "output_type": "stream",
     "text": [
      "8\n",
      "17\n"
     ]
    }
   ],
   "source": [
    "'''RETURN-PRİNT'''\n",
    "\n",
    "def topla():\n",
    "    return 5+3\n",
    "\n",
    "def topla1():\n",
    "    print(8+9)\n",
    "    \n",
    "    \n",
    "print(topla())\n",
    "\n",
    "topla1()    "
   ]
  },
  {
   "cell_type": "code",
   "execution_count": null,
   "metadata": {},
   "outputs": [],
   "source": [
    "'''PASS KEYWORD'''\n",
    "def topla():\n",
    "    pass   #fonsiyon burda hiç bir işlem yapmaz"
   ]
  },
  {
   "cell_type": "code",
   "execution_count": 2,
   "metadata": {},
   "outputs": [
    {
     "name": "stdout",
     "output_type": "stream",
     "text": [
      "65\n"
     ]
    }
   ],
   "source": [
    "\n",
    "def listToplam(listGelsin):\n",
    "    sum=0\n",
    "    for x in listGelsin:\n",
    "        sum+=x\n",
    "    return sum\n",
    "\n",
    "\n",
    "print(listToplam(rakamlar))   \n",
    "rakamlar=[3,8,9,6,14,25]\n"
   ]
  }
 ],
 "metadata": {
  "kernelspec": {
   "display_name": "Python 3.10.7 64-bit",
   "language": "python",
   "name": "python3"
  },
  "language_info": {
   "codemirror_mode": {
    "name": "ipython",
    "version": 3
   },
   "file_extension": ".py",
   "mimetype": "text/x-python",
   "name": "python",
   "nbconvert_exporter": "python",
   "pygments_lexer": "ipython3",
   "version": "3.10.7"
  },
  "orig_nbformat": 4,
  "vscode": {
   "interpreter": {
    "hash": "4da9a974502a770719437ffedb6af6dc7e6be5b31bf400ed85c20b154b03d2ca"
   }
  }
 },
 "nbformat": 4,
 "nbformat_minor": 2
}
