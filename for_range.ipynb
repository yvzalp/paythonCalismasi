{
 "cells": [
  {
   "cell_type": "code",
   "execution_count": null,
   "metadata": {},
   "outputs": [],
   "source": [
    "no=[1,5,8,9,4,55,66,]\n",
    "\n",
    "for x in no:\n",
    "    print(x)"
   ]
  },
  {
   "cell_type": "code",
   "execution_count": null,
   "metadata": {},
   "outputs": [],
   "source": [
    "strr=\"for içinde yazdır\"\n",
    "\n",
    "for x in strr:\n",
    "    print(x)"
   ]
  },
  {
   "cell_type": "code",
   "execution_count": null,
   "metadata": {},
   "outputs": [],
   "source": [
    "'''range() method'''\n",
    "\n",
    "for t in range(5,15,3): #start,stop,step\n",
    "    print(t)"
   ]
  },
  {
   "cell_type": "code",
   "execution_count": 4,
   "metadata": {},
   "outputs": [
    {
     "name": "stdout",
     "output_type": "stream",
     "text": [
      "mahmut\n",
      "ali\n",
      "tarık\n",
      "ahmed\n"
     ]
    }
   ],
   "source": [
    "'''SÖZLÜK key,value'''\n",
    "\n",
    "sözlük={\"mahmut\":35,\"ali\":25,\"tarık\":78,\"ahmed\":45}\n",
    "\n",
    "for S in sözlük:#key,value belirtilmedigi zaman key gelir.\n",
    "    print(S)"
   ]
  },
  {
   "cell_type": "code",
   "execution_count": 6,
   "metadata": {},
   "outputs": [
    {
     "name": "stdout",
     "output_type": "stream",
     "text": [
      "35\n",
      "25\n",
      "78\n",
      "45\n"
     ]
    }
   ],
   "source": [
    "'''SÖZLÜK key,value'''\n",
    "\n",
    "sözlük={\"mahmut\":35,\"ali\":25,\"tarık\":78,\"ahmed\":45}\n",
    "\n",
    "for S in sözlük.values():# bu sekilde valuler gelir keys yazsaydşk keyler gelirdi\n",
    "    print(S)"
   ]
  },
  {
   "cell_type": "code",
   "execution_count": 14,
   "metadata": {},
   "outputs": [
    {
     "name": "stdout",
     "output_type": "stream",
     "text": [
      "('mahmut', 35)\n",
      "('ali', 25)\n",
      "('tarık', 78)\n",
      "('ahmed', 45)\n"
     ]
    }
   ],
   "source": [
    "'''SÖZLÜK key,value'''\n",
    "\n",
    "sözlük={\"mahmut\":35,\"ali\":25,\"tarık\":78,\"ahmed\":45}\n",
    "\n",
    "for t in sözlük.items():# items() method u key ve value birlikte döndürür\n",
    "    print(t)"
   ]
  },
  {
   "cell_type": "code",
   "execution_count": 16,
   "metadata": {},
   "outputs": [
    {
     "name": "stdout",
     "output_type": "stream",
     "text": [
      "mahmut 35\n",
      "ali 25\n",
      "tarık 78\n",
      "ahmed 45\n"
     ]
    }
   ],
   "source": [
    "'''SÖZLÜK key,value'''\n",
    "\n",
    "sözlük={\"mahmut\":35,\"ali\":25,\"tarık\":78,\"ahmed\":45}\n",
    "\n",
    "for t,j in sözlük.items():# bu sekilde key ve value gelir ama prantezden kurtulmuş halde\n",
    "    print(t,j)"
   ]
  },
  {
   "cell_type": "markdown",
   "metadata": {},
   "source": [
    "Break ve Continue forda da kullanilir"
   ]
  },
  {
   "cell_type": "code",
   "execution_count": 18,
   "metadata": {},
   "outputs": [
    {
     "name": "stdout",
     "output_type": "stream",
     "text": [
      "0 ali\n",
      "1 mehmed\n",
      "2 harun\n",
      "3 leyla\n"
     ]
    }
   ],
   "source": [
    "''' Enumarate '''\n",
    "isim=[\"ali\",\"mehmed\",\"harun\",\"leyla\"]\n",
    "\n",
    "for x,isim in enumerate(isim):# liste elemanlarini index leri ile bşrlikte yazdirdi\n",
    "    print(x,isim)"
   ]
  }
 ],
 "metadata": {
  "kernelspec": {
   "display_name": "Python 3.10.7 64-bit",
   "language": "python",
   "name": "python3"
  },
  "language_info": {
   "codemirror_mode": {
    "name": "ipython",
    "version": 3
   },
   "file_extension": ".py",
   "mimetype": "text/x-python",
   "name": "python",
   "nbconvert_exporter": "python",
   "pygments_lexer": "ipython3",
   "version": "3.10.7"
  },
  "orig_nbformat": 4,
  "vscode": {
   "interpreter": {
    "hash": "4da9a974502a770719437ffedb6af6dc7e6be5b31bf400ed85c20b154b03d2ca"
   }
  }
 },
 "nbformat": 4,
 "nbformat_minor": 2
}
