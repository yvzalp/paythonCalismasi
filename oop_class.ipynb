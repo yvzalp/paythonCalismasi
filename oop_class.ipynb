{
 "cells": [
  {
   "cell_type": "code",
   "execution_count": 6,
   "metadata": {},
   "outputs": [
    {
     "name": "stdout",
     "output_type": "stream",
     "text": [
      "audi\n",
      "üretlen arabanın markasi audi,modeli a8,üretim yıli 2022,hızı ise 300'dür \n",
      "BMV\n",
      "üretlen arabanın markasi BMV,modeli B102,üretim yıli 2020,hızı ise 350'dür \n"
     ]
    }
   ],
   "source": [
    "class Car:\n",
    "    def __init__(self,marka,model,yıl,hız): #constructor diyebiliriz\n",
    "        self.marka=marka\n",
    "        self.model=model\n",
    "        self.yıl=yıl\n",
    "        self.hız=hız\n",
    "        \n",
    "    def üretim(self):\n",
    "        return f\"üretlen arabanın markasi {self.marka},modeli {self.model},üretim yıli {self.yıl},hızı ise {self.hız}'dür \"    \n",
    "\n",
    "\n",
    "\n",
    "\n",
    "car_1=Car(\"audi\",\"a8\",2022,300)\n",
    "\n",
    "print(car_1.marka)\n",
    "print(car_1.üretim())\n",
    "\n",
    "\n",
    "car_2=Car(\"BMV\",\"B102\",2020,350)\n",
    "print(car_2.marka)\n",
    "print(car_2.üretim())\n"
   ]
  },
  {
   "cell_type": "code",
   "execution_count": 1,
   "metadata": {},
   "outputs": [
    {
     "name": "stdout",
     "output_type": "stream",
     "text": [
      "anadolu\n",
      "abdullah\n",
      "81.66666666666667\n",
      "anadolu\n",
      "canberk\n",
      "85.66666666666667\n"
     ]
    }
   ],
   "source": [
    "#class degişkeni \n",
    "\n",
    "class Okul():\n",
    "    \n",
    "    okulIsim=\"anadolu\" #class seviyesinde oldugu için üretilen nesnelerde ortak olarak kullanırız\n",
    "    \n",
    "    def __init__(self,isim,yas,notlar):\n",
    "        self.isim=isim\n",
    "        self.yas=yas\n",
    "        self.notlar=notlar\n",
    "    \n",
    "    def notOrtalam(self):\n",
    "        return sum(self.notlar)/len(self.notlar)\n",
    "    \n",
    "    def okulAd(self):\n",
    "        return f\" okulumuzun adi {self.okulIsim} \"\n",
    "        \n",
    "\n",
    "\n",
    "\n",
    "\n",
    "ögrenci_1=  Okul(\"atilla\",20,[80,75,90])\n",
    "ögrenci_1.isim=\"abdullah\"   #tanimladigimiz ismi bu sekilde degiştirebiliriz yazdırdıgımızda atilla degil abullah olacaktir\n",
    "print(ögrenci_1.okulIsim)\n",
    "print(ögrenci_1.isim)\n",
    "print(ögrenci_1.notOrtalam())  \n",
    "\n",
    "\n",
    "ögrenci_2=  Okul(\"canberk\",20,[88,70,99])\n",
    "print(ögrenci_2.okulIsim)\n",
    "print(ögrenci_2.isim)\n",
    "print(ögrenci_2.notOrtalam())    "
   ]
  },
  {
   "cell_type": "code",
   "execution_count": null,
   "metadata": {},
   "outputs": [],
   "source": [
    "''' Class method VE Static method'''\n",
    "\n",
    "class Okul:\n",
    "    \n",
    "    okulIsim=\"anadolu\" \n",
    "    def __init__(self,isim,yas,notlar):\n",
    "        self.isim=isim\n",
    "        self.yas=yas\n",
    "        self.notlar=notlar\n",
    "    \n",
    "    def notOrtalama(self):\n",
    "        return sum(self.notlar)/len(self.notlar)\n",
    "    \n",
    "    def okulAd(self):\n",
    "        return f\" okulumuzun adi {self.okulIsim}\"\n",
    "    \n",
    "    @classmethod\n",
    "    def isimDegistir(cls,oklIsim):\n",
    "        cls.oklIsim=oklIsim  \n",
    "    \n",
    "    @staticmethod\n",
    "    def stticMethod(): # dikkt edilirse self ve cls gibi keyword leri yok \n",
    "        return f\"sadece bu mesaji gönderiyorum\"\n",
    "    \n",
    "    \n",
    "    \n",
    "    Okul.clasMethod(\"cumhuriyet\")\n",
    "    \n",
    "    student_1=Okul(\"musa\",20,[58,78,96,45,63])\n",
    "    \n",
    "    print(student_1.notOrtalama())\n",
    "    \n",
    "\n"
   ]
  }
 ],
 "metadata": {
  "kernelspec": {
   "display_name": "Python 3.10.7 64-bit",
   "language": "python",
   "name": "python3"
  },
  "language_info": {
   "codemirror_mode": {
    "name": "ipython",
    "version": 3
   },
   "file_extension": ".py",
   "mimetype": "text/x-python",
   "name": "python",
   "nbconvert_exporter": "python",
   "pygments_lexer": "ipython3",
   "version": "3.10.7"
  },
  "orig_nbformat": 4,
  "vscode": {
   "interpreter": {
    "hash": "4da9a974502a770719437ffedb6af6dc7e6be5b31bf400ed85c20b154b03d2ca"
   }
  }
 },
 "nbformat": 4,
 "nbformat_minor": 2
}
