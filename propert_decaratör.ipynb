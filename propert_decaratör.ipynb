{
 "cells": [
  {
   "cell_type": "code",
   "execution_count": 5,
   "metadata": {},
   "outputs": [
    {
     "name": "stdout",
     "output_type": "stream",
     "text": [
      "mehmed\n",
      " mehmed,gülen \n"
     ]
    }
   ],
   "source": [
    "class Okul:\n",
    "    \n",
    "    okulIsim=\"anadolu\" \n",
    "    def __init__(self,isim,soyİsim,yas,notlar):\n",
    "        self.isim=isim\n",
    "        self.soyİsim=soyİsim\n",
    "        self.yas=yas\n",
    "        self.notlar=notlar\n",
    "        self.fullName=isim +\" \"+soyİsim\n",
    "        \n",
    "    \n",
    "    def notOrtalama(self):\n",
    "        return sum(self.notlar)/len(self.notlar)\n",
    "    \n",
    "    def okulAd(self):\n",
    "        return f\" okulumuzun adi {self.okulIsim}\"\n",
    "    \n",
    "    @property        #bunu method cagirmamak için yazdik \n",
    "    def fullname(self):\n",
    "        return f\" {self.isim},{self.soyİsim} \"\n",
    "    \n",
    "\n",
    "    \n",
    "\n",
    "ögrenci_1=Okul(\"mücteba\",\"Binici\",25,[100,100,100])\n",
    "\n",
    "ögrenci_1.isim=\"mehmed\"  #isim ve altta soy isim degiştirdi.burda yaptigimiz degişiklik fullName de yansimasi için property,dekaratör yapiyoruz\n",
    "ögrenci_1.soyİsim=\"gülen\" #method larda decaratörlere ihtiyac yoktur\n",
    "\n",
    "print(ögrenci_1.isim)\n",
    "\n",
    "print(ögrenci_1.fullname)  #tamm ismi yazdirdi biz ismi ve soyismi degiştigimizde burda degişmeyecek\n",
    "                           #ancak property özelligi ekledikten sonra degişecek\n",
    "\n"
   ]
  }
 ],
 "metadata": {
  "kernelspec": {
   "display_name": "Python 3.10.7 64-bit",
   "language": "python",
   "name": "python3"
  },
  "language_info": {
   "codemirror_mode": {
    "name": "ipython",
    "version": 3
   },
   "file_extension": ".py",
   "mimetype": "text/x-python",
   "name": "python",
   "nbconvert_exporter": "python",
   "pygments_lexer": "ipython3",
   "version": "3.10.7"
  },
  "orig_nbformat": 4,
  "vscode": {
   "interpreter": {
    "hash": "4da9a974502a770719437ffedb6af6dc7e6be5b31bf400ed85c20b154b03d2ca"
   }
  }
 },
 "nbformat": 4,
 "nbformat_minor": 2
}
