{
 "cells": [
  {
   "cell_type": "code",
   "execution_count": null,
   "metadata": {},
   "outputs": [],
   "source": [
    "#girilen bir sayinin 0, pozitif , negatif  olma durumu\n",
    "\n",
    "num=int(input(\"bir sayi giriniz\"))\n",
    "\n",
    "if num>0:\n",
    "    print (f'{num} girdiginiz sayi 0 dan büyük')\n",
    "elif num<0:\n",
    "    print(f'{num},girdiginiz sayi 0 an kücük')\n",
    "else:\n",
    "    print (f'{num},girdiginiz sayi 0 a esit')     "
   ]
  },
  {
   "cell_type": "code",
   "execution_count": null,
   "metadata": {},
   "outputs": [],
   "source": [
    "#girilen yinin tek mi çiftmi oldugu \n",
    "kullanici=int(input(\"bir sayi giriniz\"))\n",
    "\n",
    "if kullanici % 2==1:\n",
    "    print(kullanici,\"girdiginz sayi tek bir sayi\")\n",
    "else:\n",
    "    print(\"girdiginz sayi çift bir sayi\")    "
   ]
  },
  {
   "cell_type": "markdown",
   "metadata": {},
   "source": [
    "#tek satirda if elif"
   ]
  },
  {
   "cell_type": "code",
   "execution_count": 5,
   "metadata": {},
   "outputs": [
    {
     "name": "stdout",
     "output_type": "stream",
     "text": [
      "10,30 den kücük\n"
     ]
    }
   ],
   "source": [
    "# if ve sadece else durumunda kullanilabilir\n",
    "x=10\n",
    "y=30\n",
    "\n",
    "print(f'{x},{y} den kücük' ) if x<y else  print(f'{x},{y} daan büyükkk' )"
   ]
  },
  {
   "cell_type": "markdown",
   "metadata": {},
   "source": [
    "Fakttoriyel if-else-for\n"
   ]
  },
  {
   "cell_type": "code",
   "execution_count": 9,
   "metadata": {},
   "outputs": [
    {
     "name": "stdout",
     "output_type": "stream",
     "text": [
      "4 rakaminin  faktoriyeli 24\n"
     ]
    }
   ],
   "source": [
    "#faktoriyel\n",
    "\n",
    "number=int(input(\"bir no giriniz\"))\n",
    "\n",
    "faktoriyel=1\n",
    "\n",
    "if number<0:\n",
    "    print(f'{number},sayi negatif')\n",
    "    \n",
    "elif number==0:\n",
    "    print(f'{number},sayının faktoriyel degeri {faktoriyel}')\n",
    "    \n",
    "else:\n",
    "    for x in range(1,number+1):\n",
    "        faktoriyel=faktoriyel*x   \n",
    "    print(f'{number} rakaminin  faktoriyeli {faktoriyel}')           "
   ]
  },
  {
   "cell_type": "code",
   "execution_count": null,
   "metadata": {},
   "outputs": [],
   "source": []
  }
 ],
 "metadata": {
  "kernelspec": {
   "display_name": "Python 3.10.7 64-bit",
   "language": "python",
   "name": "python3"
  },
  "language_info": {
   "codemirror_mode": {
    "name": "ipython",
    "version": 3
   },
   "file_extension": ".py",
   "mimetype": "text/x-python",
   "name": "python",
   "nbconvert_exporter": "python",
   "pygments_lexer": "ipython3",
   "version": "3.10.7"
  },
  "orig_nbformat": 4,
  "vscode": {
   "interpreter": {
    "hash": "4da9a974502a770719437ffedb6af6dc7e6be5b31bf400ed85c20b154b03d2ca"
   }
  }
 },
 "nbformat": 4,
 "nbformat_minor": 2
}
