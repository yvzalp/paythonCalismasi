{
 "cells": [
  {
   "cell_type": "code",
   "execution_count": 6,
   "metadata": {},
   "outputs": [
    {
     "data": {
      "text/plain": [
       "'++++++++++++++++metni ortalayalim+++++++++++++++++'"
      ]
     },
     "execution_count": 6,
     "metadata": {},
     "output_type": "execute_result"
    }
   ],
   "source": [
    "#metin ortalama\n",
    "\n",
    "ortalama=\"metni ortalayalim\"\n",
    "\n",
    "orta=ortalama.center(50,\"+\") #metni ortaladi bos olan kısımlara + koydu\n",
    "orta\n"
   ]
  },
  {
   "cell_type": "code",
   "execution_count": 11,
   "metadata": {},
   "outputs": [
    {
     "data": {
      "text/plain": [
       "4"
      ]
     },
     "execution_count": 11,
     "metadata": {},
     "output_type": "execute_result"
    }
   ],
   "source": [
    "#count method\n",
    "sayac =\"bu metine kactane bu kelimesi bulunur bu\"\n",
    "\n",
    "say=sayac.count(\"bu\",0,40) #sayacagimiz kelimeyi start ve stop koyduk\n",
    "say"
   ]
  },
  {
   "cell_type": "code",
   "execution_count": 23,
   "metadata": {},
   "outputs": [
    {
     "data": {
      "text/plain": [
       "True"
      ]
     },
     "execution_count": 23,
     "metadata": {},
     "output_type": "execute_result"
    }
   ],
   "source": [
    "#endswith method kelime yada metin sonlarinda istediğimiz varmi diye bakar\n",
    "\n",
    "bulunurmu=\"var mi ? yok mu\"\n",
    "bak=bulunurmu.endswith(\"?\",0,8) #start ve stop da verilebilir\n",
    "bak\n"
   ]
  },
  {
   "cell_type": "code",
   "execution_count": 26,
   "metadata": {},
   "outputs": [
    {
     "data": {
      "text/plain": [
       "True"
      ]
     },
     "execution_count": 26,
     "metadata": {},
     "output_type": "execute_result"
    }
   ],
   "source": [
    "#startswith method kelime yada metin baslarinda istediğimiz varmi diye bakar\n",
    "\n",
    "bulunurmu=\"var mi ? yok mu\"\n",
    "bak=bulunurmu.startswith(\"a\",1,8) #start ve stop da verilebilir\n",
    "bak"
   ]
  },
  {
   "cell_type": "code",
   "execution_count": 33,
   "metadata": {},
   "outputs": [
    {
     "name": "stdout",
     "output_type": "stream",
     "text": [
      "a\ts\tl\ta\tn\n"
     ]
    },
    {
     "data": {
      "text/plain": [
       "'a s l a n'"
      ]
     },
     "execution_count": 33,
     "metadata": {},
     "output_type": "execute_result"
    }
   ],
   "source": [
    "#tab boşlugu ousturma \\t ile\n",
    "\n",
    "a='a\\ts\\tl\\ta\\tn'\n",
    "print(a)  #print içerisinde yazmamiz gerekiyormus\n",
    "\n",
    "#tab bosugu silme\n",
    "b=a.expandtabs(2)#karakter aralarinda kac bosluk olsun \n",
    "b\n"
   ]
  },
  {
   "cell_type": "code",
   "execution_count": 36,
   "metadata": {},
   "outputs": [
    {
     "data": {
      "text/plain": [
       "14"
      ]
     },
     "execution_count": 36,
     "metadata": {},
     "output_type": "execute_result"
    }
   ],
   "source": [
    "#find() method kullanımı bulamazsa -1 döner.bu methoda benzer index() method var bu bulamazsa hata döner\n",
    "\n",
    "bir =\"bir method girelim\" \n",
    "\n",
    "sec=bir.find(\"e\",10,20) #bir karaker girip index ögrenebiliriz start ve stop verebiliriz\n",
    "sec\n",
    "\n"
   ]
  },
  {
   "cell_type": "code",
   "execution_count": 3,
   "metadata": {},
   "outputs": [
    {
     "name": "stdout",
     "output_type": "stream",
     "text": [
      "1 adet: armut, 2 adet: elma, 3 adet: kaysi, 4 adet: nar\n"
     ]
    }
   ],
   "source": [
    "#index ini belirleyerek sıralama yaptik\n",
    "list=[\"elma\",\"armut\",\"kaysi\",\"nar\"]\n",
    "\n",
    "print(\"1 adet: {}, 2 adet: {}, 3 adet: {}, 4 adet: {}\".format(list[1],list[0],list[2],list[3]))"
   ]
  },
  {
   "cell_type": "code",
   "execution_count": 12,
   "metadata": {},
   "outputs": [
    {
     "name": "stdout",
     "output_type": "stream",
     "text": [
      "124.5\n",
      "120.0\n"
     ]
    }
   ],
   "source": [
    "#küsürat yuvarlama\n",
    "\n",
    "round(25.6) \n",
    "round(25.5)#en yakin cift sayiya yuvarlar\n",
    "round(25.4)\n",
    "round(24.4)\n",
    "\n",
    "x=124.4569\n",
    "round(x,1)#virgülen sonra  1 rakam al demek,2 ersek virgülden sonra 2 basamak alır\n",
    "print(round(x,1))\n",
    "\n",
    "y=124.55882\n",
    "print(round(y,-1))#noktadan sonra sola -1 git"
   ]
  },
  {
   "cell_type": "code",
   "execution_count": 15,
   "metadata": {},
   "outputs": [
    {
     "data": {
      "text/plain": [
       "False"
      ]
     },
     "execution_count": 15,
     "metadata": {},
     "output_type": "execute_result"
    }
   ],
   "source": [
    "#harf sıralamasi(asci)\n",
    "\n",
    "\"armut\">\"elma\" #alfabetik öcelik degil burda olan\n",
    "#True\n",
    "\"incir\">\"kereviz\"#False"
   ]
  },
  {
   "cell_type": "code",
   "execution_count": 19,
   "metadata": {},
   "outputs": [
    {
     "data": {
      "text/plain": [
       "32"
      ]
     },
     "execution_count": 19,
     "metadata": {},
     "output_type": "execute_result"
    }
   ],
   "source": [
    "#asci\n",
    "ord('a') #97\n",
    "ord('A') #65\n",
    "\n",
    "ord(' ')#space asci degeri 32"
   ]
  },
  {
   "cell_type": "code",
   "execution_count": 21,
   "metadata": {},
   "outputs": [
    {
     "data": {
      "text/plain": [
       "False"
      ]
     },
     "execution_count": 21,
     "metadata": {},
     "output_type": "execute_result"
    }
   ],
   "source": [
    "#boolean kısaltmasi bool\n",
    "\n",
    "bool(\"gh\") # True\n",
    "\n",
    "bool(\"\") #hiçlik False\n",
    "\n",
    "bool()"
   ]
  },
  {
   "cell_type": "code",
   "execution_count": null,
   "metadata": {},
   "outputs": [],
   "source": []
  }
 ],
 "metadata": {
  "kernelspec": {
   "display_name": "Python 3.10.7 64-bit (microsoft store)",
   "language": "python",
   "name": "python3"
  },
  "language_info": {
   "codemirror_mode": {
    "name": "ipython",
    "version": 3
   },
   "file_extension": ".py",
   "mimetype": "text/x-python",
   "name": "python",
   "nbconvert_exporter": "python",
   "pygments_lexer": "ipython3",
   "version": "3.10.7"
  },
  "orig_nbformat": 4,
  "vscode": {
   "interpreter": {
    "hash": "7b60276908c3349bf0a2cf69de4d7bf4bae3bf371057c4ac156f4be27a89a82c"
   }
  }
 },
 "nbformat": 4,
 "nbformat_minor": 2
}
