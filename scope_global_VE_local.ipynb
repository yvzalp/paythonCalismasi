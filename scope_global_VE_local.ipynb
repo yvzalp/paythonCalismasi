{
 "cells": [
  {
   "cell_type": "code",
   "execution_count": 3,
   "metadata": {},
   "outputs": [
    {
     "name": "stdout",
     "output_type": "stream",
     "text": [
      "ali\n"
     ]
    }
   ],
   "source": [
    "name =\"ali\" # global degişken\n",
    "age =25\n",
    "\n",
    "def scobe():    \n",
    "    name =\"ahmed\" # local degişken yan scope içerisinde\n",
    "    age =30\n",
    "    \n",
    "\n",
    "print(name)    # burda gobal degişkeni aldi\n"
   ]
  },
  {
   "cell_type": "code",
   "execution_count": 4,
   "metadata": {},
   "outputs": [
    {
     "name": "stdout",
     "output_type": "stream",
     "text": [
      "local\n"
     ]
    }
   ],
   "source": [
    "x=\"global\"\n",
    "\n",
    "def fonk():\n",
    "    x=\"local\"\n",
    "    return x\n",
    "\n",
    "print(fonk())"
   ]
  }
 ],
 "metadata": {
  "kernelspec": {
   "display_name": "Python 3.10.7 64-bit",
   "language": "python",
   "name": "python3"
  },
  "language_info": {
   "codemirror_mode": {
    "name": "ipython",
    "version": 3
   },
   "file_extension": ".py",
   "mimetype": "text/x-python",
   "name": "python",
   "nbconvert_exporter": "python",
   "pygments_lexer": "ipython3",
   "version": "3.10.7"
  },
  "orig_nbformat": 4,
  "vscode": {
   "interpreter": {
    "hash": "4da9a974502a770719437ffedb6af6dc7e6be5b31bf400ed85c20b154b03d2ca"
   }
  }
 },
 "nbformat": 4,
 "nbformat_minor": 2
}
