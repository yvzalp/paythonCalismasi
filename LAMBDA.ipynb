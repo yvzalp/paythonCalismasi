{
 "cells": [
  {
   "cell_type": "code",
   "execution_count": 1,
   "metadata": {},
   "outputs": [
    {
     "name": "stdout",
     "output_type": "stream",
     "text": [
      "25\n"
     ]
    }
   ],
   "source": [
    "''' LAMBDA keywordu'''\n",
    "\n",
    "lambda a:a**2\n",
    "\n",
    "la=lambda a:a**2 # bir değişkene atadik\n",
    "\n",
    "print(la(5)) #la degişkeni method gibi kullandik\n",
    "\n",
    "\n"
   ]
  },
  {
   "cell_type": "code",
   "execution_count": 2,
   "metadata": {},
   "outputs": [
    {
     "name": "stdout",
     "output_type": "stream",
     "text": [
      "15\n"
     ]
    }
   ],
   "source": [
    "ekle=lambda a: a+5\n",
    "\n",
    "print(ekle(10))"
   ]
  },
  {
   "cell_type": "code",
   "execution_count": null,
   "metadata": {},
   "outputs": [],
   "source": [
    "\n",
    "lambda a,b:a+b #birden fazla parametre alabilir"
   ]
  }
 ],
 "metadata": {
  "kernelspec": {
   "display_name": "Python 3.10.7 64-bit",
   "language": "python",
   "name": "python3"
  },
  "language_info": {
   "codemirror_mode": {
    "name": "ipython",
    "version": 3
   },
   "file_extension": ".py",
   "mimetype": "text/x-python",
   "name": "python",
   "nbconvert_exporter": "python",
   "pygments_lexer": "ipython3",
   "version": "3.10.7"
  },
  "orig_nbformat": 4,
  "vscode": {
   "interpreter": {
    "hash": "4da9a974502a770719437ffedb6af6dc7e6be5b31bf400ed85c20b154b03d2ca"
   }
  }
 },
 "nbformat": 4,
 "nbformat_minor": 2
}
