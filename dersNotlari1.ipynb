{
 "cells": [
  {
   "cell_type": "code",
   "execution_count": 16,
   "metadata": {},
   "outputs": [
    {
     "name": "stdout",
     "output_type": "stream",
     "text": [
      "elma\n"
     ]
    },
    {
     "data": {
      "text/plain": [
       "'portakal'"
      ]
     },
     "execution_count": 16,
     "metadata": {},
     "output_type": "execute_result"
    }
   ],
   "source": [
    "fruits=[\"elma\",\"armut\",\"portakal\"]  # buraya 4.eleman koysak hata verir\n",
    "\n",
    "x,y,z=fruits #burda list elemanlari ayri ayri degişkenlere atandi\n",
    "\n",
    "print(x)\n",
    "y\n",
    "z\n"
   ]
  },
  {
   "cell_type": "code",
   "execution_count": null,
   "metadata": {},
   "outputs": [],
   "source": [
    "'''\n",
    "  birden fazla satiri \n",
    "  yorum olarak kullanmak \n",
    "  istersek 3 tırnak basta 3 tırnak \n",
    "  sonda kullanilir\n",
    " \n",
    "'''"
   ]
  },
  {
   "cell_type": "code",
   "execution_count": 6,
   "metadata": {},
   "outputs": [
    {
     "name": "stdout",
     "output_type": "stream",
     "text": [
      "3 tırnakta asagi \n",
      "enter yapabiliyoruz\n"
     ]
    }
   ],
   "source": [
    "# print 3 tırnakli yazinca alt satira kaydırabiliriz\n",
    "\n",
    "print('''3 tırnakta asagi \n",
    "      enter yapabiliyoruz''')"
   ]
  },
  {
   "cell_type": "code",
   "execution_count": 9,
   "metadata": {},
   "outputs": [
    {
     "data": {
      "text/plain": [
       "'portakal'"
      ]
     },
     "execution_count": 9,
     "metadata": {},
     "output_type": "execute_result"
    }
   ],
   "source": [
    "x=y=z=\"portakal\"  #burda 3 degişkene ayni degeri atadik\n",
    "x\n",
    "y\n",
    "z"
   ]
  },
  {
   "cell_type": "code",
   "execution_count": 18,
   "metadata": {},
   "outputs": [
    {
     "name": "stdout",
     "output_type": "stream",
     "text": [
      "techpro\n",
      "python\n"
     ]
    }
   ],
   "source": [
    "#anasilmayacak bir sey yok\n",
    "\n",
    "x=\"techpro\"\n",
    "y=x\n",
    "x=\"python\"\n",
    "\n",
    "print(y)\n",
    "print(x)"
   ]
  },
  {
   "cell_type": "code",
   "execution_count": null,
   "metadata": {},
   "outputs": [],
   "source": [
    "#string bir ifade int cevrilemez, int bir ifade stringe cevrilebilir\n",
    "t=\"kalem\"\n",
    "a=int(t)\n",
    "print(type(a))"
   ]
  },
  {
   "cell_type": "code",
   "execution_count": null,
   "metadata": {},
   "outputs": [],
   "source": [
    "#pip install pandas cmd ye yazdiğimiz da pandas kutuphanesini indiririr"
   ]
  },
  {
   "cell_type": "code",
   "execution_count": null,
   "metadata": {},
   "outputs": [],
   "source": [
    "import pandas as pd #pandas kutuphanesini import etme"
   ]
  },
  {
   "cell_type": "code",
   "execution_count": 2,
   "metadata": {},
   "outputs": [
    {
     "name": "stdout",
     "output_type": "stream",
     "text": [
      "<class 'complex'>\n"
     ]
    }
   ],
   "source": [
    "#complex data type kullanimi\n",
    "x=1j\n",
    "x\n",
    "print(type(x))#complex"
   ]
  },
  {
   "cell_type": "code",
   "execution_count": 8,
   "metadata": {},
   "outputs": [
    {
     "data": {
      "text/plain": [
       "'binici'"
      ]
     },
     "execution_count": 8,
     "metadata": {},
     "output_type": "execute_result"
    }
   ],
   "source": [
    "#dicniraty(sözlük)\n",
    "\n",
    "sözlük={\"ad\":\"mustafa\",\"soyad\":\"binici\",\"yas\":25,\"ögretmenmi\":True}\n",
    "\n",
    "type(sözlük)\n",
    "\n",
    "sözlük['soyad']  #bu sekilde sözlük ögesine eriştik"
   ]
  },
  {
   "cell_type": "code",
   "execution_count": 14,
   "metadata": {},
   "outputs": [
    {
     "data": {
      "text/plain": [
       "1"
      ]
     },
     "execution_count": 14,
     "metadata": {},
     "output_type": "execute_result"
    }
   ],
   "source": [
    "#\n",
    "\"ali eve gel\".upper()\n",
    "\n",
    "\"mucteba\".count(\"a\")"
   ]
  },
  {
   "cell_type": "code",
   "execution_count": 18,
   "metadata": {},
   "outputs": [
    {
     "data": {
      "text/plain": [
       "set"
      ]
     },
     "execution_count": 18,
     "metadata": {},
     "output_type": "execute_result"
    }
   ],
   "source": [
    "#set\n",
    "sett={}\n",
    "type(sett) #bu haliyle type sözlük olarak gördü\n",
    "\n",
    "sett={1,5,\"h\"} #bu haliyle type set olarak göründü\n",
    "type(sett)\n"
   ]
  },
  {
   "cell_type": "code",
   "execution_count": 19,
   "metadata": {},
   "outputs": [
    {
     "data": {
      "text/plain": [
       "'strip'"
      ]
     },
     "execution_count": 19,
     "metadata": {},
     "output_type": "execute_result"
    }
   ],
   "source": [
    "#strip  basta ve sonda bosluklar siler\n",
    "\n",
    "\"  strip  \".strip()"
   ]
  },
  {
   "cell_type": "code",
   "execution_count": 23,
   "metadata": {},
   "outputs": [
    {
     "data": {
      "text/plain": [
       "['ali', 'ata', 'bak']"
      ]
     },
     "execution_count": 23,
     "metadata": {},
     "output_type": "execute_result"
    }
   ],
   "source": [
    "#split  string parcalar liste dönüştürür\n",
    "\n",
    "\"ali ata bak\".split(\" \") #bosluklardan böldü"
   ]
  },
  {
   "cell_type": "code",
   "execution_count": 25,
   "metadata": {},
   "outputs": [
    {
     "data": {
      "text/plain": [
       "8.0"
      ]
     },
     "execution_count": 25,
     "metadata": {},
     "output_type": "execute_result"
    }
   ],
   "source": [
    "#bölme işleminin sonucu float olur\n",
    "20/5\n",
    "\n",
    "20/5+4"
   ]
  },
  {
   "cell_type": "code",
   "execution_count": 33,
   "metadata": {},
   "outputs": [
    {
     "name": "stdout",
     "output_type": "stream",
     "text": [
      "elmaarmutportakal\n"
     ]
    }
   ],
   "source": [
    "print(\"elma\" \"armut\" \"portakal\",sep=\"\\n\") #ne oldugunu bir daha bak"
   ]
  }
 ],
 "metadata": {
  "kernelspec": {
   "display_name": "Python 3.10.7 64-bit (microsoft store)",
   "language": "python",
   "name": "python3"
  },
  "language_info": {
   "codemirror_mode": {
    "name": "ipython",
    "version": 3
   },
   "file_extension": ".py",
   "mimetype": "text/x-python",
   "name": "python",
   "nbconvert_exporter": "python",
   "pygments_lexer": "ipython3",
   "version": "3.10.7"
  },
  "orig_nbformat": 4,
  "vscode": {
   "interpreter": {
    "hash": "7b60276908c3349bf0a2cf69de4d7bf4bae3bf371057c4ac156f4be27a89a82c"
   }
  }
 },
 "nbformat": 4,
 "nbformat_minor": 2
}
